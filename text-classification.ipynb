{
 "cells": [
  {
   "cell_type": "markdown",
   "id": "d404561c-8e7c-49a0-8e68-a2bd09c3d8a7",
   "metadata": {},
   "source": [
    "# Classificação de Texto com BERT"
   ]
  },
  {
   "cell_type": "code",
   "execution_count": null,
   "id": "472887aa-5323-499a-8b30-bda70fec265a",
   "metadata": {},
   "outputs": [],
   "source": [
    "import os\n",
    "import shutil\n",
    "\n",
    "import tensorflow as tf\n",
    "import tensorflow_hub as hub\n",
    "import tensorflow_text as text\n",
    "from official.nlp import optimization"
   ]
  },
  {
   "cell_type": "markdown",
   "id": "d501d542-d744-4500-9d2d-386b243bfd0d",
   "metadata": {
    "tags": []
   },
   "source": [
    "## Dataset\n",
    "\n",
    "[Large Movie Review Dataset](https://ai.stanford.edu/~amaas/data/sentiment/) - Reviews do IMDb."
   ]
  },
  {
   "cell_type": "code",
   "execution_count": null,
   "id": "f2c0958e-da62-4fae-8061-e4fa5b61772c",
   "metadata": {},
   "outputs": [],
   "source": [
    "url = 'https://ai.stanford.edu/~amaas/data/sentiment/aclImdb_v1.tar.gz'\n",
    "\n",
    "dataset = tf.keras.utils.get_file(\n",
    "        'aclImdb_v1.tar.gz', url,\n",
    "        untar=True, cache_dir='/tmp/aclImdb',\n",
    "        cache_subdir='')\n",
    "\n",
    "dataset_dir = os.path.join(os.path.dirname(dataset), 'aclImdb')\n",
    "\n",
    "train_dir = os.path.join(dataset_dir, 'train')\n",
    "\n",
    "# remove unused folders to make it easier to load the data\n",
    "remove_dir = os.path.join(train_dir, 'unsup')\n",
    "shutil.rmtree(remove_dir)"
   ]
  },
  {
   "cell_type": "code",
   "execution_count": null,
   "id": "19f51b73-2591-4474-ab61-badf78defa10",
   "metadata": {},
   "outputs": [],
   "source": [
    "AUTOTUNE = tf.data.AUTOTUNE\n",
    "batch_size = 12\n",
    "seed = 42\n",
    "\n",
    "raw_train_ds = tf.keras.utils.text_dataset_from_directory(\n",
    "    os.path.join(dataset_dir, 'train'),\n",
    "    batch_size=batch_size,\n",
    "    validation_split=0.2,\n",
    "    subset='training',\n",
    "    seed=seed)\n",
    "\n",
    "class_names = raw_train_ds.class_names\n",
    "train_ds = raw_train_ds.cache().prefetch(buffer_size=AUTOTUNE)"
   ]
  },
  {
   "cell_type": "code",
   "execution_count": null,
   "id": "92b3890e-b223-4b8d-8703-96e9bf44c939",
   "metadata": {},
   "outputs": [],
   "source": [
    "val_ds = tf.keras.utils.text_dataset_from_directory(\n",
    "    os.path.join(dataset_dir, 'train'),\n",
    "    batch_size=batch_size,\n",
    "    validation_split=0.2,\n",
    "    subset='validation',\n",
    "    seed=seed)\n",
    "\n",
    "val_ds = val_ds.cache().prefetch(buffer_size=AUTOTUNE)"
   ]
  },
  {
   "cell_type": "code",
   "execution_count": null,
   "id": "19b896b3-163a-4e14-95fa-50a23d93c0a2",
   "metadata": {},
   "outputs": [],
   "source": [
    "test_ds = tf.keras.utils.text_dataset_from_directory(\n",
    "    os.path.join(dataset_dir, 'test'),\n",
    "    batch_size=batch_size)\n",
    "\n",
    "test_ds = test_ds.cache().prefetch(buffer_size=AUTOTUNE)"
   ]
  },
  {
   "cell_type": "code",
   "execution_count": null,
   "id": "fd7f6544-631d-48f4-8ab1-bc1b7cb37f57",
   "metadata": {},
   "outputs": [],
   "source": [
    "for text_batch, label_batch in train_ds.take(1):\n",
    "    # we'll print 3 reviews from the batch\n",
    "    for i in range(3):\n",
    "        print(f'Review: {text_batch.numpy()[i]}')\n",
    "        label = label_batch.numpy()[i]\n",
    "        print(f'Label : {label} ({class_names[label]})')\n",
    "        print()"
   ]
  },
  {
   "cell_type": "markdown",
   "id": "80b4e982-3a57-493d-82f0-9c4b1d06e404",
   "metadata": {
    "jp-MarkdownHeadingCollapsed": true,
    "tags": []
   },
   "source": [
    "## Carregando o modelo\n",
    "\n",
    "O modelo BERT utilizado será baixado do [tensorflow hub](https://tfhub.dev/google/collections/bert/1), juntamente com o pipeline de preprocessamento utilizado."
   ]
  },
  {
   "cell_type": "code",
   "execution_count": null,
   "id": "052fdb6c-479f-4cae-804a-b8053f21bc0f",
   "metadata": {},
   "outputs": [],
   "source": [
    "model_size = [\n",
    "    (2, 128, 2),\n",
    "    (6, 256, 4),\n",
    "    (10, 256, 4),\n",
    "    (2, 768, 12),\n",
    "    (12, 768, 12),\n",
    "][3]\n",
    "\n",
    "# Number of layers (i.e., residual blocks)\n",
    "L = model_size[0]\n",
    "\n",
    "# Size of hidden layers\n",
    "H = model_size[1]\n",
    "\n",
    "# Number of attention heads\n",
    "A = model_size[2]\n",
    "\n",
    "tfhub_handle_encoder = f\"https://tfhub.dev/tensorflow/small_bert/bert_en_uncased_L-{L}_H-{H}_A-{A}/2\"\n",
    "tfhub_handle_preprocess = \"https://tfhub.dev/tensorflow/bert_en_uncased_preprocess/3\""
   ]
  },
  {
   "cell_type": "markdown",
   "id": "eebe22b7-f653-4952-91b2-5037f0923c40",
   "metadata": {
    "jp-MarkdownHeadingCollapsed": true,
    "tags": []
   },
   "source": [
    "### Pipeline de preprocessamento\n",
    "\n",
    "Para garantir que nosso modelo funcione corretamente, devemos utilizar o mesmo preprocessamento de texto empregado no modelo pré-treinado. No intuito de facilitar as coisas, o pipeline de preprocessamente é fornecido em conjunto com o modelo que o utilizou."
   ]
  },
  {
   "cell_type": "code",
   "execution_count": null,
   "id": "a84b4d40-4089-4def-a59f-8c873a2255c5",
   "metadata": {},
   "outputs": [],
   "source": [
    "bert_preprocess_model = hub.KerasLayer(tfhub_handle_preprocess)"
   ]
  },
  {
   "cell_type": "code",
   "execution_count": null,
   "id": "44c8c00c-7452-4ae9-a349-1a6018f8488c",
   "metadata": {},
   "outputs": [],
   "source": [
    "text_test = ['this is such an amazing movie!']\n",
    "text_preprocessed = bert_preprocess_model(text_test)\n",
    "\n",
    "print(f'Keys       : {list(text_preprocessed.keys())}')\n",
    "print(f'Shape      : {text_preprocessed[\"input_word_ids\"].shape}')\n",
    "print(f'Word Ids   : {text_preprocessed[\"input_word_ids\"][0, :12]}')\n",
    "print(f'Input Mask : {text_preprocessed[\"input_mask\"][0, :12]}')\n",
    "print(f'Type Ids   : {text_preprocessed[\"input_type_ids\"][0, :12]}')"
   ]
  },
  {
   "cell_type": "markdown",
   "id": "d013ddf5-3248-4818-bf51-dcecfd65c743",
   "metadata": {
    "tags": []
   },
   "source": [
    "### Modelo BERT\n",
    "\n",
    "Agora, carregamos o modelo propriamente dito."
   ]
  },
  {
   "cell_type": "code",
   "execution_count": null,
   "id": "f3072401-6834-4cea-ade4-04aa2345cdc1",
   "metadata": {},
   "outputs": [],
   "source": [
    "bert_model = hub.KerasLayer(tfhub_handle_encoder)"
   ]
  },
  {
   "cell_type": "code",
   "execution_count": null,
   "id": "46dab6e4-6671-443d-8498-9991af3e095d",
   "metadata": {},
   "outputs": [],
   "source": [
    "bert_results = bert_model(text_preprocessed)\n",
    "\n",
    "print(f'Loaded BERT: {tfhub_handle_encoder}')\n",
    "print(f'Pooled Outputs Shape:{bert_results[\"pooled_output\"].shape}')\n",
    "print(f'Pooled Outputs Values:{bert_results[\"pooled_output\"][0, :12]}')\n",
    "print(f'Sequence Outputs Shape:{bert_results[\"sequence_output\"].shape}')\n",
    "print(f'Sequence Outputs Values:{bert_results[\"sequence_output\"][0, :12]}')"
   ]
  },
  {
   "cell_type": "markdown",
   "id": "147faf97-b3a7-467e-9939-6a421059fdf4",
   "metadata": {},
   "source": [
    "## Modelo de Classificação\n",
    "\n",
    "Utilizando os modelos carregados, construímos um modelo de classificação, adicionando uma **camada densa** ao final."
   ]
  },
  {
   "cell_type": "code",
   "execution_count": null,
   "id": "0d2b8d01-400d-4634-85fc-8f9ee37d16f5",
   "metadata": {},
   "outputs": [],
   "source": [
    "def build_classifier_model():\n",
    "    text_input = tf.keras.layers.Input(shape=(), dtype=tf.string, name='text')\n",
    "    preprocessing_layer = hub.KerasLayer(tfhub_handle_preprocess, name='preprocessing')\n",
    "    \n",
    "    encoder_inputs = preprocessing_layer(text_input)\n",
    "    encoder = hub.KerasLayer(tfhub_handle_encoder, trainable=True, name='BERT_encoder')\n",
    "    \n",
    "    outputs = \n",
    "    \n",
    "    net = \n",
    "    net = \n",
    "    net = \n",
    "    \n",
    "    return tf.keras.Model(text_input, net)"
   ]
  },
  {
   "cell_type": "code",
   "execution_count": null,
   "id": "0711133e-8acb-4386-afb6-e045b4627d29",
   "metadata": {},
   "outputs": [],
   "source": [
    "classifier_model = build_classifier_model()\n",
    "\n",
    "text_test = ['this is such an amazing movie!']\n",
    "bert_raw_result = classifier_model(tf.constant(text_test))\n",
    "\n",
    "print(tf.sigmoid(bert_raw_result))"
   ]
  },
  {
   "cell_type": "code",
   "execution_count": null,
   "id": "cb99256b-6770-4f3d-a32d-fa4070ea1913",
   "metadata": {},
   "outputs": [],
   "source": [
    "tf.keras.utils.plot_model(classifier_model)"
   ]
  },
  {
   "cell_type": "markdown",
   "id": "89730177-1c11-4324-a282-4de1cc435abb",
   "metadata": {},
   "source": [
    "### Treinamento"
   ]
  },
  {
   "cell_type": "markdown",
   "id": "86609c8c-ca69-4b0e-8ada-ff7b594bffbc",
   "metadata": {},
   "source": [
    "Primeiramente, devemos definir nossa função de custo: Entropia cruzada."
   ]
  },
  {
   "cell_type": "code",
   "execution_count": null,
   "id": "bb33c89e-7b77-426f-9110-0b63fde2b9ba",
   "metadata": {},
   "outputs": [],
   "source": [
    "loss = tf.keras.losses.BinaryCrossentropy(from_logits=True)\n",
    "metrics = tf.metrics.BinaryAccuracy()"
   ]
  },
  {
   "cell_type": "markdown",
   "id": "71d70768-2963-4238-b97c-e5745784426a",
   "metadata": {},
   "source": [
    "Em seguida, definimos nosso _optimizer_ (um método que irá alterar os pesos do modelo durante o treinamento)."
   ]
  },
  {
   "cell_type": "code",
   "execution_count": null,
   "id": "ba11de52-7495-468f-97a5-6a2c7907df60",
   "metadata": {},
   "outputs": [],
   "source": [
    "epochs = 15\n",
    "steps_per_epoch = tf.data.experimental.cardinality(train_ds).numpy()\n",
    "num_train_steps = steps_per_epoch * epochs\n",
    "num_warmup_steps = int(0.1*num_train_steps)\n",
    "\n",
    "init_lr = 3e-5\n",
    "optimizer = optimization.create_optimizer(\n",
    "        init_lr=init_lr, num_train_steps=num_train_steps,\n",
    "        num_warmup_steps=num_warmup_steps, optimizer_type='adamw')"
   ]
  },
  {
   "cell_type": "code",
   "execution_count": null,
   "id": "c1d3cdc1-5c11-4563-9b18-f7e19e08761f",
   "metadata": {},
   "outputs": [],
   "source": [
    "classifier_model.compile(\n",
    "        optimizer=optimizer, loss=loss,\n",
    "        metrics=metrics)\n",
    "\n",
    "history = []\n",
    "\n",
    "history = classifier_model.fit(\n",
    "        x=train_ds, validation_data=val_ds,\n",
    "        epochs=epochs)"
   ]
  },
  {
   "cell_type": "markdown",
   "id": "d6fc133b-a9c1-4536-92a1-9747e4d9008e",
   "metadata": {},
   "source": [
    "### Avaliação do Modelo"
   ]
  },
  {
   "cell_type": "code",
   "execution_count": null,
   "id": "fd26b38f-ccdc-403f-83c1-9d1a994edab4",
   "metadata": {},
   "outputs": [],
   "source": [
    "loss, accuracy = classifier_model.evaluate(test_ds)\n",
    "\n",
    "print(f'Loss: {loss}')\n",
    "print(f'Accuracy: {accuracy}')"
   ]
  },
  {
   "cell_type": "markdown",
   "id": "ccaf52cb-bc02-4896-8ba8-6522f5146495",
   "metadata": {},
   "source": [
    "[Colab com o Código](https://colab.research.google.com/drive/1jZQmKk61-LprE5I42TRsbcQebVVbdOpm?usp=sharing)"
   ]
  }
 ],
 "metadata": {
  "kernelspec": {
   "display_name": "Python 3 (ipykernel)",
   "language": "python",
   "name": "python3"
  },
  "language_info": {
   "codemirror_mode": {
    "name": "ipython",
    "version": 3
   },
   "file_extension": ".py",
   "mimetype": "text/x-python",
   "name": "python",
   "nbconvert_exporter": "python",
   "pygments_lexer": "ipython3",
   "version": "3.9.7"
  }
 },
 "nbformat": 4,
 "nbformat_minor": 5
}
